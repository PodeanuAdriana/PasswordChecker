{
 "cells": [
  {
   "cell_type": "code",
   "execution_count": 2,
   "id": "9af48e2a",
   "metadata": {},
   "outputs": [],
   "source": [
    "# Password Strength Checker Project"
   ]
  },
  {
   "cell_type": "code",
   "execution_count": 3,
   "id": "a7b3bece",
   "metadata": {},
   "outputs": [],
   "source": [
    "# Criterii de verificat parole\n",
    "# -cel putin o litera mare\n",
    "# -cel putin o litera mica\n",
    "# -cel putin un caracter special \n",
    "# -cel putin un numar\n",
    "# -lungimea parolei 8 caractere"
   ]
  },
  {
   "cell_type": "code",
   "execution_count": 36,
   "id": "7b6104f6",
   "metadata": {},
   "outputs": [],
   "source": [
    "import re\n",
    "import os\n",
    "import csv"
   ]
  },
  {
   "cell_type": "code",
   "execution_count": 37,
   "id": "1a63d91e",
   "metadata": {},
   "outputs": [],
   "source": [
    "# input\n",
    "def get_data():\n",
    "     return input(\"Enter your password: \")\n",
    "\n",
    "\n",
    "# password test\n",
    "\n",
    "def length_pass(passw):\n",
    "    return len(passw) >=8\n",
    "# verificare litere mari\n",
    "def uppercase_char(passw):\n",
    "    for char in passw:\n",
    "        if char.isupper():\n",
    "            return True\n",
    "        return False\n",
    "def lowercase_char(passw):\n",
    "    for char in passw:\n",
    "        if char.islower():\n",
    "            return True\n",
    "        return False\n",
    "def numbercase_char(passw):\n",
    "    for char in passw:\n",
    "        if char.isdigit():\n",
    "            return True\n",
    "        return False\n",
    "def special_chr(passw):\n",
    "    spchr=re.compile(r'[!@#$%^&*(),.?\":{}|<>]')\n",
    "    return bool(spchr.search(passw))\n",
    "\n",
    "def evaluate_pass(passw):\n",
    "    points=0\n",
    "    if length_pass(passw):\n",
    "        points+=5\n",
    "    if uppercase_char(passw):\n",
    "        points+=5\n",
    "    if lowercase_char(passw):\n",
    "        points+=5\n",
    "    if numbercase_char(passw):\n",
    "        points+=5\n",
    "    return points\n",
    "\n",
    "def password_feedback(points):\n",
    "    if points <= 5:\n",
    "        return \"Weak password!\"\n",
    "    elif points == 10 or points == 15:\n",
    "        return \"Moderate password!\"\n",
    "    else:\n",
    "        return \"Strong password!\"\n",
    "    \n",
    "\n"
   ]
  },
  {
   "cell_type": "code",
   "execution_count": 38,
   "id": "da79370f",
   "metadata": {},
   "outputs": [
    {
     "name": "stdout",
     "output_type": "stream",
     "text": [
      "Your password score: 5/5\n",
      "Weak password!\n",
      "Your password score: 5/5\n",
      "Weak password!\n",
      "Your password score: 10/5\n",
      "Moderate password!\n"
     ]
    }
   ],
   "source": [
    "# passw = get_data()\n",
    "# score = evaluate_pass(passw)\n",
    "# feedback = password_feedback(score)\n",
    "# print(f\"Your password score: {score}/5\")\n",
    "# print(feedback)\n",
    "\n",
    "def process_csv():\n",
    "    file_path = os.path.join('date', 'conectare.csv')\n",
    "    with open(file_path, mode='r') as file:\n",
    "        reader = csv.DictReader(file)\n",
    "        for row in reader:\n",
    "            username = row.get('username')\n",
    "            password = row.get('password')\n",
    "            score = evaluate_pass(password)\n",
    "            feedback = password_feedback(score)\n",
    "            print(f\"Your password score: {score}/5\")\n",
    "            print(feedback)\n",
    "process_csv()"
   ]
  },
  {
   "cell_type": "code",
   "execution_count": null,
   "id": "1fc465ef",
   "metadata": {},
   "outputs": [],
   "source": []
  },
  {
   "cell_type": "code",
   "execution_count": null,
   "id": "df37098a",
   "metadata": {},
   "outputs": [],
   "source": []
  },
  {
   "cell_type": "code",
   "execution_count": null,
   "id": "2209ec69",
   "metadata": {},
   "outputs": [],
   "source": []
  }
 ],
 "metadata": {
  "kernelspec": {
   "display_name": "Python 3 (ipykernel)",
   "language": "python",
   "name": "python3"
  },
  "language_info": {
   "codemirror_mode": {
    "name": "ipython",
    "version": 3
   },
   "file_extension": ".py",
   "mimetype": "text/x-python",
   "name": "python",
   "nbconvert_exporter": "python",
   "pygments_lexer": "ipython3",
   "version": "3.7.16"
  }
 },
 "nbformat": 4,
 "nbformat_minor": 5
}
